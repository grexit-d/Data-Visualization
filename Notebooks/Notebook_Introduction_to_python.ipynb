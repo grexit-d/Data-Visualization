{
 "nbformat": 4,
 "nbformat_minor": 0,
 "metadata": {
  "colab": {
   "provenance": [],
   "toc_visible": true
  },
  "kernelspec": {
   "name": "python3",
   "display_name": "Python 3"
  },
  "language_info": {
   "name": "python"
  }
 },
 "cells": [
  {
   "cell_type": "markdown",
   "source": [
    "# **PART 1: Python Basics**\n"
   ],
   "metadata": {
    "id": "ZfzBvKJtiqdj"
   }
  },
  {
   "cell_type": "markdown",
   "source": [
    "## Variables and Data Types"
   ],
   "metadata": {
    "id": "hRJA83Nhi8tU"
   }
  },
  {
   "cell_type": "code",
   "source": [
    "# Define variables\n",
    "x = 10  # Integer\n",
    "pi = 3.14  # Float\n",
    "name = \"Alice\"  # String\n",
    "is_student = True  # Boolean"
   ],
   "metadata": {
    "id": "X5hDuVSki7n9"
   },
   "execution_count": null,
   "outputs": []
  },
  {
   "cell_type": "code",
   "source": [
    "# Print variables\n",
    "print(\"x:\", x)\n",
    "print(\"pi:\", pi)\n",
    "print(\"name:\", name)\n",
    "print(\"is_student:\", is_student)"
   ],
   "metadata": {
    "id": "KG00hkAj5Gtn"
   },
   "execution_count": null,
   "outputs": []
  },
  {
   "cell_type": "code",
   "source": [
    "# Check data types\n",
    "print(type(x))\n",
    "print(type(pi))\n",
    "print(type(name))\n",
    "print(type(is_student))"
   ],
   "metadata": {
    "id": "d7l_H1mx5JjN"
   },
   "execution_count": null,
   "outputs": []
  },
  {
   "cell_type": "code",
   "source": [
    "# List, Tuple, Dictionary, Set\n",
    "my_list = [1, 2, 3, 4]\n",
    "my_tuple = (5, 6, 7, 8)\n",
    "my_dict = {\"key1\": \"value1\", \"key2\": \"value2\"}\n",
    "my_set = {9, 10, 11}\n",
    "\n",
    "print(\"List:\", my_list)\n",
    "print(\"Tuple:\", my_tuple)\n",
    "print(\"Dictionary:\", my_dict)\n",
    "print(\"Set:\", my_set)"
   ],
   "metadata": {
    "id": "q_oF30YY5KsZ"
   },
   "execution_count": null,
   "outputs": []
  },
  {
   "cell_type": "markdown",
   "source": [
    "## Conditional Statements (if-else)\n"
   ],
   "metadata": {
    "id": "v3JLnCBHjP0g"
   }
  },
  {
   "cell_type": "code",
   "source": [
    "# Example of if-else\n",
    "x = 15\n",
    "if x > 10:\n",
    "    print(\"x is greater than 10\")\n",
    "elif x == 10:\n",
    "    print(\"x is equal to 10\")\n",
    "else:\n",
    "    print(\"x is less than 10\")"
   ],
   "metadata": {
    "id": "7FPzN0UMjX-d"
   },
   "execution_count": null,
   "outputs": []
  },
  {
   "cell_type": "markdown",
   "source": [
    "## Loops"
   ],
   "metadata": {
    "id": "nQEWZ2CajUBx"
   }
  },
  {
   "cell_type": "code",
   "source": [
    "# For loop example\n",
    "for i in range(5):\n",
    "    print(\"For loop iteration:\", i)"
   ],
   "metadata": {
    "id": "lv-DkmP6jTCy"
   },
   "execution_count": null,
   "outputs": []
  },
  {
   "cell_type": "code",
   "source": [
    "# While loop example\n",
    "counter = 0\n",
    "while counter < 5:\n",
    "    print(\"While loop iteration:\", counter)\n",
    "    counter += 1"
   ],
   "metadata": {
    "id": "nmc4RhCC5SzN"
   },
   "execution_count": null,
   "outputs": []
  },
  {
   "cell_type": "markdown",
   "source": [
    "## Functions"
   ],
   "metadata": {
    "id": "U1QsqLa7jdDv"
   }
  },
  {
   "cell_type": "code",
   "source": [
    "# Define a simple function\n",
    "def greet(name):\n",
    "    return f\"Hello, {name}!\"\n",
    "\n",
    "\n",
    "# Test the function\n",
    "print(greet(\"Alice\"))"
   ],
   "metadata": {
    "id": "UvmifSvXjd_Z"
   },
   "execution_count": null,
   "outputs": []
  },
  {
   "cell_type": "markdown",
   "source": [
    "## Run a script"
   ],
   "metadata": {
    "id": "wmOCN7WNjgwU"
   }
  },
  {
   "cell_type": "code",
   "execution_count": null,
   "metadata": {
    "id": "t2Cy6VcMipp6"
   },
   "outputs": [],
   "source": [
    "# Example of writing a script (this part would normally go in a .py file)\n",
    "# Save this content as script.py\n",
    "# Then run it in the terminal with: python script.py\n",
    "if __name__ == \"__main__\":\n",
    "    print(\"This script is being run directly.\")"
   ]
  },
  {
   "cell_type": "markdown",
   "source": [
    "# PART 2: Python Libraries for Data Analysis"
   ],
   "metadata": {
    "id": "jzi6Aa6uscA0"
   }
  },
  {
   "cell_type": "markdown",
   "source": [
    "## NUMPY"
   ],
   "metadata": {
    "id": "GIKqCgstBcUi"
   }
  },
  {
   "cell_type": "code",
   "source": [
    "# Importing the NumPy library\n",
    "import numpy as np"
   ],
   "metadata": {
    "id": "aatdlRRvsf8C"
   },
   "execution_count": null,
   "outputs": []
  },
  {
   "cell_type": "markdown",
   "source": [
    "### 1. Create Arrays"
   ],
   "metadata": {
    "id": "-NrmWR2esrg0"
   }
  },
  {
   "cell_type": "code",
   "source": [
    "# Creating a 1D array\n",
    "array_1d = np.array([1, 2, 3, 4, 5])\n",
    "print(\"1D Array:\", array_1d)\n",
    "print(\"Shape: \", array_1d.shape)\n",
    "print(\"Num dimension: \", array_1d.ndim)"
   ],
   "metadata": {
    "id": "9BsDtU3nsvoj"
   },
   "execution_count": null,
   "outputs": []
  },
  {
   "cell_type": "code",
   "source": [
    "# Creating a 2D array\n",
    "array_2d = np.array([[1, 2, 3], [4, 5, 6]])\n",
    "print(\"\\n2D Array:\\n\", array_2d)\n",
    "print(\"Shape: \", array_2d.shape)\n",
    "print(\"Num dimension: \", array_2d.ndim)"
   ],
   "metadata": {
    "id": "uTwdC9MVsv9x"
   },
   "execution_count": null,
   "outputs": []
  },
  {
   "cell_type": "code",
   "source": [
    "# Creating arrays with zeros, ones, or a range of numbers\n",
    "zeros_array = np.zeros((2, 3))\n",
    "ones_array = np.ones((3, 2))\n",
    "range_array = np.arange(0, 10, 2)\n",
    "print(\"\\nZeros Array:\\n\", zeros_array)\n",
    "print(\"\\nOnes Array:\\n\", ones_array)\n",
    "print(\"\\nRange Array:\", range_array)\n",
    "\n",
    "print(\"Shape zeros_array: \", zeros_array.shape)\n",
    "print(\"Shape ones_array: \", ones_array.shape)\n",
    "print(\"Shape range_array: \", range_array.shape)\n",
    "print(\"\\n\")\n",
    "\n",
    "print(\"Num dimension zeros_array: \", zeros_array.ndim)\n",
    "print(\"Num dimension ones_array: \", ones_array.ndim)\n",
    "print(\"Num dimension range_array: \", range_array.ndim)"
   ],
   "metadata": {
    "id": "iKF8HxmRsxH7"
   },
   "execution_count": null,
   "outputs": []
  },
  {
   "cell_type": "code",
   "source": [
    "# type of the elements in the array\n",
    "array_1d.dtype"
   ],
   "metadata": {
    "id": "7UCmGJQV842u"
   },
   "execution_count": null,
   "outputs": []
  },
  {
   "cell_type": "code",
   "source": "np.array(['Cat', 1, True])  # arrays can be composed of different types",
   "metadata": {
    "id": "irJGkOx687qv"
   },
   "execution_count": null,
   "outputs": []
  },
  {
   "cell_type": "code",
   "source": [
    "array_1d.shape"
   ],
   "metadata": {
    "id": "QzMD3nOh9G-W"
   },
   "execution_count": null,
   "outputs": []
  },
  {
   "cell_type": "markdown",
   "source": [
    "### 2. Array Operations"
   ],
   "metadata": {
    "id": "5rP9nHLnuHA3"
   }
  },
  {
   "cell_type": "code",
   "source": [
    "# Element-wise addition, subtraction, multiplication, and division\n",
    "array_a = np.array([1, 22, 3])\n",
    "array_b = np.array([37, 6, 15])\n",
    "\n",
    "print(\"Addition:\", array_a + array_b)\n",
    "print(\"Subtraction:\", array_a - array_b)\n",
    "print(\"Multiplication:\", array_a * array_b)\n",
    "print(\"Division:\", array_a / array_b)"
   ],
   "metadata": {
    "id": "dJzcrlBBs0p1"
   },
   "execution_count": null,
   "outputs": []
  },
  {
   "cell_type": "code",
   "source": [
    "# Addition, subtraction, multiplication, and division between array and scalar\n",
    "array = np.array([1, 22, 3])\n",
    "scalar = 5\n",
    "\n",
    "print(\"Addition:\", array + scalar)\n",
    "print(\"Subtraction:\", array - scalar)\n",
    "print(\"Multiplication:\", array * scalar)\n",
    "print(\"Division:\", array / scalar)"
   ],
   "metadata": {
    "id": "G5gDJAax5yF1"
   },
   "execution_count": null,
   "outputs": []
  },
  {
   "cell_type": "code",
   "source": [
    "# Exercise: where is the difference? Can i obtain the same with an array? If yes, which one?"
   ],
   "metadata": {
    "id": "11_22oL55-yK"
   },
   "execution_count": null,
   "outputs": []
  },
  {
   "cell_type": "markdown",
   "source": [
    "**Dot Product**\n",
    "\n",
    "The dot product of two vectors $$a = [a_1, a_2, a_3] $$ and $$b = [b_1, b_2, b_3] $$  specified with respect to an orthonormal basis, is defined as:\n",
    "\n",
    "$$ a \\cdot b = ∑_{i=1}^{n} a_i \\cdot b_i = a_1*b_1 + a_2*b_2 + ... + a_n*b_n $$\n",
    "\n"
   ],
   "metadata": {
    "id": "9xOdGNte6WH7"
   }
  },
  {
   "cell_type": "code",
   "source": [
    "dot_product = np.dot(array_a, array_b)\n",
    "print(\"\\nDot Product:\", dot_product)"
   ],
   "metadata": {
    "id": "qvxhEVd2uIYc"
   },
   "execution_count": null,
   "outputs": []
  },
  {
   "cell_type": "markdown",
   "source": [
    "### 3. Statistical Functions"
   ],
   "metadata": {
    "id": "HBA4kvBVuK_O"
   }
  },
  {
   "cell_type": "markdown",
   "source": [
    "**Sum and Max**"
   ],
   "metadata": {
    "id": "AIqNouTe791h"
   }
  },
  {
   "cell_type": "code",
   "source": [
    "array_stats = np.array([10, 20, 30, 40, 50])\n",
    "\n",
    "print(\"Sum:\", np.sum(array_stats))\n",
    "print(\"Maximum:\", np.max(array_stats))"
   ],
   "metadata": {
    "id": "n7AtMY9x73kc"
   },
   "execution_count": null,
   "outputs": []
  },
  {
   "cell_type": "markdown",
   "source": [
    "**Mean**\n",
    "$$\\bar{x} = \\frac{1}{n} \\sum_{i=1}^{n} x_i$$"
   ],
   "metadata": {
    "id": "aZjmNQnN7uSg"
   }
  },
  {
   "cell_type": "code",
   "source": [
    "print(\"Mean:\", np.mean(array_stats))"
   ],
   "metadata": {
    "id": "5fMpTXW0uJbu"
   },
   "execution_count": null,
   "outputs": []
  },
  {
   "cell_type": "markdown",
   "source": [
    "**Standard deviation**\n",
    "\n",
    "$$\\sigma = \\sqrt{\\frac{1}{n} \\sum_{i=1}^{n} (x_i - \\bar{x})^2}$$"
   ],
   "metadata": {
    "id": "692j6C3i77GF"
   }
  },
  {
   "cell_type": "code",
   "source": [
    "print(\"Standard Deviation:\", np.std(array_stats))"
   ],
   "metadata": {
    "id": "RpFMb_b477U2"
   },
   "execution_count": null,
   "outputs": []
  },
  {
   "cell_type": "markdown",
   "source": [
    "### 4. Indexing and Slicing"
   ],
   "metadata": {
    "id": "S_amvrvKuNv3"
   }
  },
  {
   "cell_type": "code",
   "source": [
    "print(\"\\nElement at index 1:\", array_1d[1])  # Accessing element\n",
    "print(\"First row of 2D array:\", array_2d[0])  # Accessing a row\n",
    "print(\"Element at (1, 2):\", array_2d[1, 2])  # Accessing specific element"
   ],
   "metadata": {
    "id": "qLWatq_SuOha"
   },
   "execution_count": null,
   "outputs": []
  },
  {
   "cell_type": "markdown",
   "source": [
    "### 5. Reshaping Arrays"
   ],
   "metadata": {
    "id": "QTrJo_EouQP7"
   }
  },
  {
   "cell_type": "code",
   "source": [
    "reshaped_array = np.reshape(array_1d, (1, 5))  # Reshape to 1 row, 5 columns\n",
    "print(\"\\nReshaped Array:\\n\", reshaped_array)"
   ],
   "metadata": {
    "id": "Ur1ibcLvuRoO"
   },
   "execution_count": null,
   "outputs": []
  },
  {
   "cell_type": "code",
   "source": [
    "reshaped_array = np.reshape(array_1d, (5, 1))  # Reshape to 5 row, 1 columns\n",
    "print(\"\\nReshaped Array:\\n\", reshaped_array)"
   ],
   "metadata": {
    "id": "JncFxaaX8ZDC"
   },
   "execution_count": null,
   "outputs": []
  },
  {
   "cell_type": "code",
   "source": "reshaped_array.flatten()  # flatten, return to original",
   "metadata": {
    "id": "fqVB8QC78fwe"
   },
   "execution_count": null,
   "outputs": []
  },
  {
   "cell_type": "markdown",
   "source": [
    "### 6. Boolean Indexing"
   ],
   "metadata": {
    "id": "Sn9E_1ufuW5t"
   }
  },
  {
   "cell_type": "code",
   "source": [
    "bool_array = array_stats > 25  # Elements greater than 25\n",
    "print(\"\\nBoolean Array:\", bool_array)\n",
    "print(\"Filtered Array (values > 25):\", array_stats[bool_array])"
   ],
   "metadata": {
    "id": "GdR6ud4DuT4y"
   },
   "execution_count": null,
   "outputs": []
  },
  {
   "cell_type": "markdown",
   "source": [
    "**Further reading: https://numpy.org/devdocs/user/quickstart.html Recommended!**"
   ],
   "metadata": {
    "id": "gt-SqcjU-23z"
   }
  },
  {
   "cell_type": "markdown",
   "source": [
    "## PANDAS"
   ],
   "metadata": {
    "id": "V-N4k5DXBnCk"
   }
  },
  {
   "cell_type": "code",
   "source": [
    "# Define a dataframe\n",
    "import pandas as pd\n",
    "\n",
    "age = [20, 22, 25]\n",
    "sex = ['M', 'F', 'M']\n",
    "degree = ['BSc', 'MSc', 'PhD']\n",
    "dataframe = pd.DataFrame({'Age': age, 'Sex': sex, 'Degree': degree})\n",
    "print(dataframe.head())"
   ],
   "metadata": {
    "id": "THDNa71dBpIQ"
   },
   "execution_count": null,
   "outputs": []
  },
  {
   "cell_type": "code",
   "source": [
    "print(dataframe.info())"
   ],
   "metadata": {
    "id": "zF8ivbi7B9V0"
   },
   "execution_count": null,
   "outputs": []
  },
  {
   "cell_type": "code",
   "source": [
    "print(dataframe.describe())"
   ],
   "metadata": {
    "id": "HYzE0LCSCEZ4"
   },
   "execution_count": null,
   "outputs": []
  },
  {
   "cell_type": "markdown",
   "source": [
    "### Basic operations: filtering, sorting, indexing"
   ],
   "metadata": {
    "id": "8KwQnHGfCI9W"
   }
  },
  {
   "cell_type": "code",
   "source": [
    "# Filtering\n",
    "# Only retain the rows where the value of column age is more than 20\n",
    "filtered_df = dataframe[dataframe['Age'] > 20]\n",
    "print(\"\\nFiltered DataFrame (Age > 20):\\n\", filtered_df)\n",
    "\n",
    "filtered_df = dataframe[dataframe['Sex'] == 'F']\n",
    "print(\"\\nFiltered DataFrame (Sex = F):\\n\", filtered_df)"
   ],
   "metadata": {
    "id": "C2jRb_ABCOL-"
   },
   "execution_count": null,
   "outputs": []
  },
  {
   "cell_type": "code",
   "source": [
    "# We can also use it to count the values\n",
    "f_count = len(dataframe[dataframe['Sex'] == 'F'])\n",
    "print(f\"Number of rows where sex = F: {f_count}\")"
   ],
   "metadata": {
    "id": "7bJzIUk1CfMv"
   },
   "execution_count": null,
   "outputs": []
  },
  {
   "cell_type": "code",
   "source": [
    "# Sorting\n",
    "sorted_df = dataframe.sort_values(by='Age', ascending=False)\n",
    "print(\"\\nSorted DataFrame (Age descending):\\n\", sorted_df)"
   ],
   "metadata": {
    "id": "sA67gYWkC3TV"
   },
   "execution_count": null,
   "outputs": []
  },
  {
   "cell_type": "code",
   "source": [
    "# Indexing\n",
    "# Accessing the first row\n",
    "print(\"First row using index 0:\")\n",
    "print(dataframe.iloc[0])\n",
    "\n",
    "# Accessing the column 'Age'\n",
    "print(\"\\nAccessing the column 'Age' using its label:\")\n",
    "print(dataframe['Age'])\n",
    "\n",
    "# Accessing rows and columns using their positions (index-based)\n",
    "print(\"\\nAccessing rows from index 0 up to but excluding 2, and columns from index 0 up to but excluding 2\")\n",
    "print(dataframe.iloc[0:2, 0:2])\n",
    "\n",
    "# Accessing rows based on a condition and selecting specific column(s) by label\n",
    "print(\"\\nAccessing rows where Age > 20 and taking the 'Sex' column:\")\n",
    "print(dataframe.loc[dataframe['Age'] > 20, 'Sex'])"
   ],
   "metadata": {
    "id": "pFYKpjoXCISW"
   },
   "execution_count": null,
   "outputs": []
  },
  {
   "cell_type": "code",
   "source": [
    "# experiment here"
   ],
   "metadata": {
    "id": "9NLdjSyDDeqH"
   },
   "execution_count": null,
   "outputs": []
  },
  {
   "cell_type": "markdown",
   "source": [
    "### Grouping, aggregation, and merging datasets"
   ],
   "metadata": {
    "id": "fKKCkY6hDgcb"
   }
  },
  {
   "cell_type": "code",
   "source": [
    "# Grouping data by 'Sex' and calculating the mean age for each group\n",
    "grouped_df = dataframe.groupby('Sex')['Age'].mean()\n",
    "\n",
    "print(\"Grouped DataFrame (Mean Age by Sex):\")\n",
    "print(grouped_df)"
   ],
   "metadata": {
    "id": "5470xBxTDnlk"
   },
   "execution_count": null,
   "outputs": []
  },
  {
   "cell_type": "code",
   "source": [
    "# Aggregation: Calculate multiple statistics for the 'Age' column\n",
    "aggregated_df = dataframe.agg({'Age': ['min', 'max', 'mean', 'std']})\n",
    "\n",
    "print(\"Aggregated DataFrame (Statistics of Age):\")\n",
    "print(aggregated_df)"
   ],
   "metadata": {
    "id": "g9Ws31b9Dxek"
   },
   "execution_count": null,
   "outputs": []
  },
  {
   "cell_type": "code",
   "source": [
    "dataframe"
   ],
   "metadata": {
    "id": "Yq8fpfBgEPNU"
   },
   "execution_count": null,
   "outputs": []
  },
  {
   "cell_type": "code",
   "source": [
    "# Merging datasets\n",
    "# Create another DataFrame\n",
    "data1 = {'Age': [24, 27, 20], 'Sex': ['M', 'F', 'M'], 'Degree': ['MSc', 'PhD', 'BSc']}\n",
    "df1 = pd.DataFrame(data1)\n",
    "\n",
    "data2 = {'City': ['London', 'Cambridge', 'Nice'], 'University': ['UCL', 'MIT', 'Université Côte d Azur']}\n",
    "df2 = pd.DataFrame(data2)\n",
    "\n",
    "# create a new column 'id'\n",
    "df1['id'] = range(len(df1))\n",
    "df2['id'] = range(len(df2))\n",
    "\n",
    "print(\"DF1:\\n \", df1)\n",
    "print(\"\\nDF2: \\n \", df2)\n",
    "\n",
    "# Merge the two DataFrames based on 'id'\n",
    "print(\n",
    "    \"\\nThe 'inner' join produces a DataFrame where each row has corresponding 'id', 'Age', 'Sex', 'Degree', 'City' and 'University' from both original DataFrames.\\n\")\n",
    "merged_df = pd.merge(df1, df2, on=['id'], how='inner')\n",
    "print(merged_df[['id', 'Age', 'Sex', 'Degree', 'City', 'University']])"
   ],
   "metadata": {
    "id": "n-opSMMQD4et"
   },
   "execution_count": null,
   "outputs": []
  },
  {
   "cell_type": "code",
   "source": [
    "# The 'how' parameter in pd.merge() controls which rows are included in the merged DataFrame based on the join keys.\n",
    "# Here's a breakdown of the differences between 'inner', 'left', 'right', and 'outer' joins:\n",
    "\n",
    "# 1. Inner Join (how='inner'):\n",
    "#   - Includes only the rows where the join keys exist in BOTH DataFrames.\n",
    "#   - Rows with join keys present in one DataFrame but not the other are excluded from the merged result.\n",
    "#   - This is the default join type if you do not specify the 'how' parameter.\n",
    "\n",
    "# 2. Left Join (how='left'):\n",
    "#   - Includes ALL rows from the left DataFrame (df1 in the example).\n",
    "#   - Includes matching rows from the right DataFrame (df2).\n",
    "#   - If a join key from the left DataFrame does not have a corresponding match in the right DataFrame, the columns from the right DataFrame for that row will contain NaN (Not a Number) values.\n",
    "\n",
    "# 3. Right Join (how='right'):\n",
    "#   - Includes ALL rows from the right DataFrame (df2 in the example).\n",
    "#   - Includes matching rows from the left DataFrame (df1).\n",
    "#   - If a join key from the right DataFrame does not have a match in the left DataFrame, the left DataFrame columns will contain NaN values for that row.\n",
    "\n",
    "# 4. Outer Join (how='outer'):\n",
    "#   - Includes ALL rows from BOTH DataFrames.\n",
    "#   - If a join key exists in one DataFrame but not the other, the missing values in the other DataFrame's columns will be filled with NaN.\n",
    "#   - It combines all the unique join keys from both DataFrames.\n",
    "\n",
    "data1 = {'Age': [24, 27, 20], 'Sex': ['M', 'F', 'M'], 'Degree': ['MSc', 'PhD', 'BSc']}\n",
    "df1 = pd.DataFrame(data1)\n",
    "\n",
    "data2 = {'City': ['London', 'Cambridge', 'Nice'], 'University': ['UCL', 'MIT', 'Université Côte d Azur']}\n",
    "df2 = pd.DataFrame(data2)\n",
    "\n",
    "df1['id'] = [0, 1, 2]\n",
    "df2['id'] = [2, 3, 4]\n",
    "\n",
    "print(\n",
    "    \"The 'left' join keeps all rows from df1 and matches those that have corresponding 'id' values in df2. Rows in df1 without a match in df2 have NaNs for City and University.\\n\")\n",
    "merged_df = pd.merge(df1, df2, on=['id'], how='left')\n",
    "print(merged_df[['id', 'Age', 'Sex', 'Degree', 'City', 'University']])\n",
    "\n",
    "print(\n",
    "    \"\\nThe 'right' join keeps all rows from df2 and matches those that have corresponding 'id' values in df1. Rows in df2 without a match in df1 have NaNs for Age, Sex, and Degree.\\n\")\n",
    "merged_df = pd.merge(df1, df2, on=['id'], how='right')\n",
    "print(merged_df[['id', 'Age', 'Sex', 'Degree', 'City', 'University']])\n",
    "\n",
    "print(\n",
    "    \"\\nThe 'outer' join includes all rows from both df1 and df2. Rows unique to either df1 or df2 have NaN for columns from the other DataFrame.\\n\")\n",
    "merged_df = pd.merge(df1, df2, on=['id'], how='outer')\n",
    "print(merged_df[['id', 'Age', 'Sex', 'Degree', 'City', 'University']])"
   ],
   "metadata": {
    "id": "6dl6gnNMFz52"
   },
   "execution_count": null,
   "outputs": []
  },
  {
   "cell_type": "markdown",
   "source": [
    "# Exercises (Python)"
   ],
   "metadata": {
    "id": "CWcjajv1W2bH"
   }
  },
  {
   "cell_type": "code",
   "source": [
    "\"\"\"\n",
    "String Manipulation: Write a Python function that takes a string as input\n",
    "and returns a dictionary with the counts of each vowel ('a', 'e', 'i', 'o', 'u').\n",
    "\"\"\"\n",
    "\n"
   ],
   "metadata": {
    "id": "tD2HHBIrXbYh"
   },
   "execution_count": null,
   "outputs": []
  },
  {
   "cell_type": "code",
   "source": [
    "\"\"\"\n",
    "List Comprehension: Create a list of all even numbers from 1 to 100 using list comprehension.\n",
    "\"\"\"\n"
   ],
   "metadata": {
    "id": "cfpMv_USXfqB"
   },
   "execution_count": null,
   "outputs": []
  },
  {
   "cell_type": "code",
   "source": [
    "\"\"\"\n",
    "Dictionary Operations: Given a dictionary { \"Alice\": 85, \"Bob\": 90, \"Charlie\": 78 },\n",
    "write a function to find and return the name of the student with the highest score.\n",
    "\"\"\"\n",
    "dict = {\"Alice\": 85, \"Bob\": 90, \"Charlie\": 78}"
   ],
   "metadata": {
    "id": "QpGTl2CBXiB5"
   },
   "execution_count": null,
   "outputs": []
  },
  {
   "cell_type": "markdown",
   "source": [
    "# Exercises (Numpy and Pandas)"
   ],
   "metadata": {
    "id": "c3AU7wlxXr4N"
   }
  },
  {
   "cell_type": "code",
   "source": [
    "\"\"\"\n",
    "NumPy Array Operations: Create a NumPy array of shape (3,3) filled with random\n",
    "integers between 1 and 100.\n",
    "Replace all even numbers with -1.\n",
    "\"\"\"\n"
   ],
   "metadata": {
    "id": "AMyqnV7oXpTV"
   },
   "execution_count": null,
   "outputs": []
  },
  {
   "cell_type": "code",
   "source": [
    "\"\"\"\n",
    "Pandas DataFrame Basics: Create a Pandas DataFrame with 3 columns (\"Name\", \"Age\", \"Score\")\n",
    "and at least 5 rows of data. Display the average age of all individuals.\n",
    "\"\"\"\n"
   ],
   "metadata": {
    "id": "iByf3zArXyio"
   },
   "execution_count": null,
   "outputs": []
  },
  {
   "cell_type": "code",
   "source": [
    "\"\"\"\n",
    "Data Filtering in Pandas: Using a DataFrame of employees (columns: \"Name\", \"Department\", \"Salary\"),\n",
    "write a function that returns all employees in the \"IT\" department earning more than $50,000.\n",
    "\"\"\"\n",
    "import pandas as pd\n",
    "import random\n",
    "\n",
    "# Sample data\n",
    "names = ['John', 'Sarah', 'David', 'Emily', 'Michael']\n",
    "departments = ['HR', 'Engineering', 'Marketing', 'Finance', 'Sales']\n",
    "salaries = [random.randint(50000, 120000) for _ in range(5)]\n",
    "\n",
    "# Create the DataFrame\n",
    "df = pd.DataFrame({\n",
    "    'Name': names,\n",
    "    'Department': departments,\n",
    "    'Salary': salaries\n",
    "})\n",
    "\n",
    "print(df)"
   ],
   "metadata": {
    "id": "Qeb2i7I0X2kD"
   },
   "execution_count": null,
   "outputs": []
  },
  {
   "cell_type": "code",
   "source": [
    "\"\"\"\n",
    "Grouping Data in Pandas: Given a DataFrame with columns \"City\", \"Temperature\",\n",
    "and \"Month\", write code to compute the average temperature per city.\n",
    "\"\"\"\n",
    "import pandas as pd\n",
    "import random\n",
    "\n",
    "# Sample data\n",
    "cities = [\"New York\", \"London\", \"Tokyo\", \"Paris\", \"Sydney\", \"Toronto\", \"Berlin\", \"Dubai\", \"Mumbai\", \"Los Angeles\"]\n",
    "months = [\"January\", \"February\", \"March\", \"April\", \"May\", \"June\", \"July\", \"August\", \"September\", \"October\", \"November\",\n",
    "          \"December\"]\n",
    "\n",
    "data = {\n",
    "    \"City\": random.choices(cities, k=10),\n",
    "    \"Temperature\": [random.uniform(-10, 40) for _ in range(10)],  # Random temp between -10 and 40°C\n",
    "    \"Month\": random.choices(months, k=10)\n",
    "}\n",
    "\n",
    "df = pd.DataFrame(data)\n",
    "print(df)\n"
   ],
   "metadata": {
    "id": "XPfGaIKVX9sk"
   },
   "execution_count": null,
   "outputs": []
  },
  {
   "cell_type": "code",
   "source": [
    "\"\"\"\n",
    "Merging DataFrames: Create two DataFrames, one with student names and IDs,\n",
    "and another with student IDs and grades. Merge them into a single DataFrame.\n",
    "\"\"\""
   ],
   "metadata": {
    "id": "TXGXojGvY0_X"
   },
   "execution_count": null,
   "outputs": []
  },
  {
   "cell_type": "code",
   "source": [
    "\"\"\"\n",
    "Applying Functions in Pandas: Given a column of dates in a DataFrame,\n",
    "convert them to datetime format and extract the month name.\n",
    "\"\"\"\n",
    "import pandas as pd\n",
    "import numpy as np\n",
    "\n",
    "# Generate 15 random dates within a range\n",
    "date_range = pd.date_range(start=\"2020-01-01\", end=\"2025-01-01\", freq=\"D\")\n",
    "random_dates = np.random.choice(date_range, size=15, replace=False)\n",
    "\n",
    "# Create the DataFrame\n",
    "df = pd.DataFrame({\"dates\": random_dates})\n",
    "df"
   ],
   "metadata": {
    "id": "H53V7inyY6rI"
   },
   "execution_count": null,
   "outputs": []
  },
  {
   "cell_type": "markdown",
   "source": [
    "# Hard Exercise"
   ],
   "metadata": {
    "id": "TbG5Bt4DZ6gm"
   }
  },
  {
   "cell_type": "code",
   "source": [
    "\"\"\" Complex DataFrame Manipulation:\n",
    "1. Create a DataFrame with at least 100 rows containing the following columns: \"CustomerID\", \"PurchaseDate\", \"ProductCategory\", \"PurchaseAmount\".\n",
    "2. Convert \"PurchaseDate\" to datetime format.\n",
    "3. Compute the total amount spent per customer.\n",
    "4. Identify the top 5 customers with the highest total spending.\n",
    "5. For each product category, find the month with the highest total sales.\n",
    "\"\"\"\n"
   ],
   "metadata": {
    "id": "mxlaDa3hZ9lm"
   },
   "execution_count": null,
   "outputs": []
  },
  {
   "cell_type": "code",
   "source": [
    "#@title Solution\n",
    "import pandas as pd\n",
    "import numpy as np\n",
    "\n",
    "# Step 1: Create a DataFrame with 100 rows\n",
    "np.random.seed(42)\n",
    "\n",
    "customer_ids = np.random.randint(1, 21, size=100)  # 20 unique customers\n",
    "purchase_dates = pd.date_range(start='2023-01-01', periods=100, freq='D')\n",
    "product_categories = np.random.choice(['Electronics', 'Clothing', 'Groceries', 'Books', 'Toys'], size=100)\n",
    "purchase_amounts = np.random.uniform(5, 500, size=100)  # Random amounts between 5 and 500\n",
    "\n",
    "df = pd.DataFrame({\n",
    "    'CustomerID': customer_ids,\n",
    "    'PurchaseDate': purchase_dates,\n",
    "    'ProductCategory': product_categories,\n",
    "    'PurchaseAmount': purchase_amounts\n",
    "})\n",
    "\n",
    "# Step 2: Convert \"PurchaseDate\" to datetime format\n",
    "df['PurchaseDate'] = pd.to_datetime(df['PurchaseDate'])\n",
    "\n",
    "# Step 3: Compute the total amount spent per customer\n",
    "total_spent_per_customer = df.groupby('CustomerID')['PurchaseAmount'].sum().reset_index()\n",
    "\n",
    "# Step 4: Identify the top 5 customers with the highest total spending\n",
    "top_5_customers = total_spent_per_customer.sort_values(by='PurchaseAmount', ascending=False).head(5)\n",
    "\n",
    "# Step 5: For each product category, find the month with the highest total sales\n",
    "df['Month'] = df['PurchaseDate'].dt.month\n",
    "category_month_sales = df.groupby(['ProductCategory', 'Month'])['PurchaseAmount'].sum().reset_index()\n",
    "\n",
    "# For each category, find the month with the highest sales\n",
    "highest_sales_per_category = category_month_sales.loc[\n",
    "    category_month_sales.groupby('ProductCategory')['PurchaseAmount'].idxmax()]\n",
    "\n",
    "total_spent_per_customer, top_5_customers, highest_sales_per_category"
   ],
   "metadata": {
    "cellView": "form",
    "id": "jgl9dOvHaaYp"
   },
   "execution_count": null,
   "outputs": []
  }
 ]
}
