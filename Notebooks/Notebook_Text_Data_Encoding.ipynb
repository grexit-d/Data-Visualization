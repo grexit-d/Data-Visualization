{
 "nbformat": 4,
 "nbformat_minor": 0,
 "metadata": {
  "colab": {
   "provenance": []
  },
  "kernelspec": {
   "name": "python3",
   "display_name": "Python 3"
  },
  "language_info": {
   "name": "python"
  }
 },
 "cells": [
  {
   "cell_type": "markdown",
   "source": [
    "# Text Data Encoding"
   ],
   "metadata": {
    "id": "VNzZmunVOBOK"
   }
  },
  {
   "cell_type": "code",
   "source": [
    "import gensim\n",
    "# Import Required Libraries\n",
    "import numpy as np\n",
    "import pandas as pd\n",
    "import sklearn.feature_extraction.text as sk_text\n",
    "from gensim.models import Word2Vec\n",
    "from sklearn.feature_extraction.text import CountVectorizer, TfidfVectorizer\n",
    "from sklearn.preprocessing import OneHotEncoder"
   ],
   "metadata": {
    "id": "oIIpsv3aOD8Z"
   },
   "execution_count": null,
   "outputs": []
  },
  {
   "cell_type": "code",
   "source": [
    "# Sample Corpus\n",
    "corpus = [\n",
    "    \"The cat sat on the mat.\",\n",
    "    \"The dog played in the park.\",\n",
    "    \"Cats and dogs are great pets.\"\n",
    "]"
   ],
   "metadata": {
    "id": "yecZFpc5OEer"
   },
   "execution_count": null,
   "outputs": []
  },
  {
   "cell_type": "markdown",
   "source": [
    "### 1. One-Hot Encoding using Sklearn\n"
   ],
   "metadata": {
    "id": "DACrtpRiOIVN"
   }
  },
  {
   "cell_type": "code",
   "source": [
    "vectorizer = CountVectorizer(binary=True)\n",
    "one_hot_encoded = vectorizer.fit_transform(corpus).toarray()\n",
    "print(\"One-Hot Encoded Matrix:\")\n",
    "print(one_hot_encoded)"
   ],
   "metadata": {
    "id": "qk3vjuKyOFcu"
   },
   "execution_count": null,
   "outputs": []
  },
  {
   "cell_type": "code",
   "source": [
    "### Exercise: Make it yourself without using libraries\n"
   ],
   "metadata": {
    "id": "s7sfRowMOqKz"
   },
   "execution_count": null,
   "outputs": []
  },
  {
   "cell_type": "markdown",
   "source": [
    "### 2. Index-Based Encoding"
   ],
   "metadata": {
    "id": "v0wOF82ZOL03"
   }
  },
  {
   "cell_type": "code",
   "source": [
    "word_to_index = {word: idx for idx, word in enumerate(set(\" \".join(corpus).split()))}\n",
    "index_encoded = [[word_to_index[word] for word in sentence.split()] for sentence in corpus]\n",
    "print(\"Index-Based Encoding:\")\n",
    "print(index_encoded)"
   ],
   "metadata": {
    "id": "CZCY8GBgOJ8z"
   },
   "execution_count": null,
   "outputs": []
  },
  {
   "cell_type": "markdown",
   "source": [
    "### 3. Bag of Words (using One Hot Encoding)"
   ],
   "metadata": {
    "id": "J0s7CdgZOSeD"
   }
  },
  {
   "cell_type": "code",
   "source": [
    "bow_vectorizer = CountVectorizer()\n",
    "bow_matrix = bow_vectorizer.fit_transform(corpus).toarray()\n",
    "print(\"\\nBag of Words Matrix:\")\n",
    "print(bow_matrix)"
   ],
   "metadata": {
    "id": "apy0d68VOTUF"
   },
   "execution_count": null,
   "outputs": []
  },
  {
   "cell_type": "markdown",
   "source": [
    "### 4. TF-IDF"
   ],
   "metadata": {
    "id": "iBAmZAbWOdCX"
   }
  },
  {
   "cell_type": "code",
   "source": [
    "tfidf_vectorizer = TfidfVectorizer()\n",
    "tfidf_matrix = tfidf_vectorizer.fit_transform(corpus).toarray()\n",
    "print(\"\\nTF-IDF Matrix:\")\n",
    "print(tfidf_matrix)"
   ],
   "metadata": {
    "id": "kcbRdi_BOOXI"
   },
   "execution_count": null,
   "outputs": []
  },
  {
   "cell_type": "code",
   "source": [
    "### Exercise: Make it yourself without using libraries\n"
   ],
   "metadata": {
    "id": "XO1jlPb1Oyjc"
   },
   "execution_count": null,
   "outputs": []
  },
  {
   "cell_type": "markdown",
   "source": [
    "### 5. Word2Vec Implementation"
   ],
   "metadata": {
    "id": "abzWf1gQOg1W"
   }
  },
  {
   "cell_type": "code",
   "source": [
    "# Tokenizing sentences\n",
    "sentences = [sentence.lower().split() for sentence in corpus]"
   ],
   "metadata": {
    "id": "imatUGNMOiTP"
   },
   "execution_count": null,
   "outputs": []
  },
  {
   "cell_type": "code",
   "source": [
    "# Train Word2Vec model\n",
    "word2vec_model = Word2Vec(sentences, vector_size=10, window=2, min_count=1, workers=4)"
   ],
   "metadata": {
    "id": "a4iXbmvCOjWh"
   },
   "execution_count": null,
   "outputs": []
  },
  {
   "cell_type": "code",
   "source": [
    "# Example: Get vector for 'cat'\n",
    "print(\"\\nWord2Vec Embedding for 'cat':\")\n",
    "print(word2vec_model.wv['cat'])\n",
    "\n",
    "# Example: Similar words to 'dog'\n",
    "print(\"\\nWords similar to 'dog':\")\n",
    "print(word2vec_model.wv.most_similar('dog'))"
   ],
   "metadata": {
    "id": "a5JXMmyhOkas"
   },
   "execution_count": null,
   "outputs": []
  },
  {
   "cell_type": "markdown",
   "source": [
    "# Exercises"
   ],
   "metadata": {
    "id": "N8iOt3dpPvD2"
   }
  },
  {
   "cell_type": "code",
   "source": [
    "### Exercise (One-Hot Encoding - Sklearn)\n",
    "\"\"\"\n",
    "Task:\n",
    "Use CountVectorizer with binary=True to apply one-hot encoding on the following sentences:\n",
    "\n",
    "corpus = [\n",
    "    \"I love programming.\",\n",
    "    \"Programming is fun.\",\n",
    "    \"I love fun activities.\"\n",
    "]\n",
    "Print the resulting one-hot encoded matrix.\n",
    "Print the vocabulary mapping.\n",
    "\"\"\"\n"
   ],
   "metadata": {
    "id": "9IyBYZobRJx1"
   },
   "execution_count": null,
   "outputs": []
  },
  {
   "cell_type": "code",
   "source": [
    "### Exercise (TF-IDF - Sklearn + Manual Calculation)\n",
    "\"\"\"\n",
    "Task:\n",
    "\n",
    "Compute the TF-IDF matrix using TfidfVectorizer for the following sentences:\n",
    "corpus = [\n",
    "    \"Machine learning is fascinating.\",\n",
    "    \"Deep learning is a subset of machine learning.\",\n",
    "    \"Neural networks are used in deep learning.\"\n",
    "]\n",
    "Manually compute Term Frequency (TF) for the word \"learning\" in each document.\n",
    "Manually compute Inverse Document Frequency (IDF) for \"learning\".\n",
    "Compare the manually computed TF-IDF for \"learning\" with the value from Sklearn.\n",
    "\"\"\"\n"
   ],
   "metadata": {
    "id": "ra5G5d38Qsso"
   },
   "execution_count": null,
   "outputs": []
  },
  {
   "cell_type": "code",
   "source": [
    "### Exercise (Word2Vec - Custom Training & Exploration)\n",
    "\"\"\"\n",
    "Task:\n",
    "\n",
    "Train a Word2Vec model using the following corpus:\n",
    "corpus = [\n",
    "    \"Artificial intelligence is transforming the world.\",\n",
    "    \"Machine learning and deep learning are part of AI.\",\n",
    "    \"Neural networks power many AI applications.\"\n",
    "]\n",
    "Find and print the vector representation of the word \"AI\".\n",
    "Find and print the most similar words to \"learning\".\n",
    "Generate a new sentence and infer its most relevant words based on the trained model.\n",
    "\"\"\"\n"
   ],
   "metadata": {
    "id": "iV9PQ8vlQ9AI"
   },
   "execution_count": null,
   "outputs": []
  }
 ]
}
