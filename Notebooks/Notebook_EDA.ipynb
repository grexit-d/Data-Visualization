{
 "nbformat": 4,
 "nbformat_minor": 0,
 "metadata": {
  "colab": {
   "provenance": [],
   "toc_visible": true
  },
  "kernelspec": {
   "name": "python3",
   "display_name": "Python 3"
  },
  "language_info": {
   "name": "python"
  }
 },
 "cells": [
  {
   "cell_type": "markdown",
   "source": [
    "# Exploratory Data Analysis (EDA) Notebook"
   ],
   "metadata": {
    "id": "pGnX5pn-QluN"
   }
  },
  {
   "cell_type": "code",
   "source": [
    "import matplotlib.pyplot as plt\n",
    "# Importing Necessary Libraries\n",
    "import numpy as np\n",
    "import pandas as pd"
   ],
   "metadata": {
    "id": "kwTtA8eeQm_s"
   },
   "execution_count": null,
   "outputs": []
  },
  {
   "cell_type": "code",
   "source": [
    "# Setting Visualization Aesthetics\n",
    "sns.set(style=\"whitegrid\")"
   ],
   "metadata": {
    "id": "iVt9AaZ5Qog0"
   },
   "execution_count": null,
   "outputs": []
  },
  {
   "cell_type": "markdown",
   "source": [
    "# Section 1: Understanding Random Variables\n",
    "Random variables are columns in a dataset that can be either numerical or categorical.\n",
    "Numerical variables can be:\n",
    "  - Continuous: Values with decimals (e.g., height in cm)\n",
    "  - Discrete: Whole numbers (e.g., count of items)\n",
    "Categorical variables can be:\n",
    "  - Nominal: Unordered categories (e.g., eye color)\n",
    "  - Ordinal: Ordered categories (e.g., education level)"
   ],
   "metadata": {
    "id": "KqG5I9WjQrg0"
   }
  },
  {
   "cell_type": "code",
   "source": [
    "from sklearn.datasets import fetch_california_housing\n",
    "\n",
    "# Load example dataset\n",
    "dataset = fetch_california_housing(download_if_missing=True)\n",
    "\n",
    "# Create a Pandas DataFrame\n",
    "df = pd.DataFrame(data=dataset.data, columns=dataset.feature_names)\n",
    "df['target'] = dataset.target\n",
    "\n",
    "# Display the DataFrame\n",
    "df.head()"
   ],
   "metadata": {
    "id": "KB07uyP0Qv3e"
   },
   "execution_count": null,
   "outputs": []
  },
  {
   "cell_type": "code",
   "source": [
    "### Exercise 1.1\n",
    "\"\"\"\n",
    "For each column in the dataset, identify its random variable type.\n",
    "\"\"\"\n"
   ],
   "metadata": {
    "id": "mdJcdY8AU1Gk"
   },
   "execution_count": null,
   "outputs": []
  },
  {
   "cell_type": "code",
   "source": [
    "df.iloc[0]"
   ],
   "metadata": {
    "id": "ntyYruaVQxT7"
   },
   "execution_count": null,
   "outputs": []
  },
  {
   "cell_type": "markdown",
   "source": [
    "# Section 2: Descriptive Statistics\n",
    "Exploring key metrics such as mean, median, mode, variance, and IQR.\n"
   ],
   "metadata": {
    "id": "bopJpaA6Q6My"
   }
  },
  {
   "cell_type": "code",
   "source": [
    "df.columns"
   ],
   "metadata": {
    "id": "DGELnGzhUoAQ"
   },
   "execution_count": null,
   "outputs": []
  },
  {
   "cell_type": "code",
   "source": [
    "# Compute Descriptive Statistics\n",
    "age = df['HouseAge']"
   ],
   "metadata": {
    "id": "bF_8HaI1Q8Fv"
   },
   "execution_count": null,
   "outputs": []
  },
  {
   "cell_type": "code",
   "source": [
    "# Mean: Sum of all values divided by the number of values\n",
    "mean_age = df['HouseAge'].mean()\n",
    "mean_age"
   ],
   "metadata": {
    "id": "lqQYAef1SIKA"
   },
   "execution_count": null,
   "outputs": []
  },
  {
   "cell_type": "code",
   "source": [
    "### Exercise 2.1\n",
    "\"\"\"\n",
    "Write the mean function from scratch.\n",
    "\"\"\""
   ],
   "metadata": {
    "id": "4lnNsu4UVAFr"
   },
   "execution_count": null,
   "outputs": []
  },
  {
   "cell_type": "code",
   "source": [
    "# Median: Middle value when sorted\n",
    "sorted_age = sorted(age)\n",
    "n = len(sorted_age)\n",
    "if n % 2 == 0:\n",
    "    median_age = (sorted_age[n // 2 - 1] + sorted_age[n // 2]) / 2\n",
    "else:\n",
    "    median_age = sorted_age[n // 2]\n",
    "\n",
    "median_age"
   ],
   "metadata": {
    "id": "WDe7dGYwSIXj"
   },
   "execution_count": null,
   "outputs": []
  },
  {
   "cell_type": "code",
   "source": [
    "### Exercise 2.2\n",
    "\"\"\"\n",
    "What's the function to calculate the median in Pandas?\n",
    "\"\"\"\n"
   ],
   "metadata": {
    "id": "WWRQOlP_VGD7"
   },
   "execution_count": null,
   "outputs": []
  },
  {
   "cell_type": "code",
   "source": [
    "# Mode: Most frequently occurring value\n",
    "mode_age = age.mode()[0]"
   ],
   "metadata": {
    "id": "XiOLr7gASRmr"
   },
   "execution_count": null,
   "outputs": []
  },
  {
   "cell_type": "code",
   "source": [
    "# Variance: Average squared deviation from the mean\n",
    "variance_age = sum((x - mean_age) ** 2 for x in age) / (len(age) - 1)\n",
    "variance_age"
   ],
   "metadata": {
    "id": "uJgkHEpHSSr1"
   },
   "execution_count": null,
   "outputs": []
  },
  {
   "cell_type": "code",
   "source": [
    "# Standard Deviation: Square root of variance\n",
    "std_dev_age = variance_age ** 0.5"
   ],
   "metadata": {
    "id": "pynqMDeiSirb"
   },
   "execution_count": null,
   "outputs": []
  },
  {
   "cell_type": "code",
   "source": [
    "### Exercise 2.3\n",
    "\"\"\"\n",
    "What's the function to calculate the standard deviation in Pandas?\n",
    "\"\"\"\n"
   ],
   "metadata": {
    "id": "eRvibIODVWgh"
   },
   "execution_count": null,
   "outputs": []
  },
  {
   "cell_type": "code",
   "source": [
    "# IQR: Q3 - Q1\n",
    "q1 = np.percentile(age, 25)\n",
    "q3 = np.percentile(age, 75)\n",
    "iqr = q3 - q1\n",
    "iqr"
   ],
   "metadata": {
    "id": "CaDkiK4NSv61"
   },
   "execution_count": null,
   "outputs": []
  },
  {
   "cell_type": "code",
   "source": [
    "print(\"\\nDescriptive Statistics for 'HouseAge':\")\n",
    "print(f\"Mean: {mean_age}\")\n",
    "print(f\"Median: {median_age}\")\n",
    "print(f\"Mode: {mode_age}\")\n",
    "print(f\"Variance: {variance_age}\")\n",
    "print(f\"Standard Deviation: {std_dev_age}\")\n",
    "print(f\"IQR: {iqr}\")"
   ],
   "metadata": {
    "id": "C6oEaMA5SyiX"
   },
   "execution_count": null,
   "outputs": []
  },
  {
   "cell_type": "code",
   "source": [
    "### Exercise 2.4\n",
    "\"\"\"\n",
    "Is there a function to print the statistics of a dataset?\n",
    "\"\"\""
   ],
   "metadata": {
    "id": "WqxSHuqPVcYk"
   },
   "execution_count": null,
   "outputs": []
  },
  {
   "cell_type": "code",
   "source": [
    "### Exercise 2.5\n",
    "\"\"\"\n",
    "Explore the fetch_20newsgroups dataset and answer the following questions:\n",
    "1. How many different categories are there?\n",
    "2. What are the names of the categories?\n",
    "3. Distribution of samples across categories.\n",
    "\n",
    "\"\"\"\n",
    "from sklearn.datasets import fetch_20newsgroups\n",
    "import pandas as pd\n",
    "\n",
    "# Load the 20 Newsgroups dataset\n",
    "newsgroups = fetch_20newsgroups(subset='train', remove=('headers', 'footers', 'quotes'))\n",
    "df_news = pd.DataFrame({'text': newsgroups.data, 'target': newsgroups.target})"
   ],
   "metadata": {
    "id": "UkCxHBmg_Ok6"
   },
   "execution_count": null,
   "outputs": []
  },
  {
   "cell_type": "code",
   "source": [
    "### Exercise 2.6\n",
    "\"\"\"\n",
    "Explore the fetch_20newsgroups dataset and answer the following questions:\n",
    "1. Calculate the average length of the text documents\n",
    "2. Explore the most frequent words in the dataset using a word cloud or frequency distribution. (Requires additional libraries like nltk and wordcloud)\n",
    "\"\"\"\n"
   ],
   "metadata": {
    "id": "GwI4LqJy_uX7"
   },
   "execution_count": null,
   "outputs": []
  },
  {
   "cell_type": "markdown",
   "source": [
    "\n",
    "# Section 3: Data Cleaning and Preparation\n",
    "Ensuring data quality by handling missing values, duplicates, and inconsistencies.\n"
   ],
   "metadata": {
    "id": "dzzOK7v8S0lI"
   }
  },
  {
   "cell_type": "code",
   "source": [
    "# Example: Handling Missing Values\n",
    "non_cleaned_data = df.copy()\n",
    "non_cleaned_data.loc[2, 'AveRooms'] = np.nan\n",
    "print(\"\\nData with Missing Value:\")\n",
    "non_cleaned_data"
   ],
   "metadata": {
    "id": "u_Q7yi0KS1wI"
   },
   "execution_count": null,
   "outputs": []
  },
  {
   "cell_type": "code",
   "source": [
    "# Fill Missing Values with Median\n",
    "sorted_AveRooms = non_cleaned_data['AveRooms'].dropna().sort_values()\n",
    "median = sorted_AveRooms.median()\n",
    "median"
   ],
   "metadata": {
    "id": "2n0-GpzTTHI8"
   },
   "execution_count": null,
   "outputs": []
  },
  {
   "cell_type": "code",
   "source": [
    "non_cleaned_data['AveRooms'] = non_cleaned_data['AveRooms'].fillna(median)\n",
    "print(\"\\nData with Filled Missing Values:\")\n",
    "non_cleaned_data"
   ],
   "metadata": {
    "id": "g6msLiCMTYmP"
   },
   "execution_count": null,
   "outputs": []
  },
  {
   "cell_type": "markdown",
   "source": [
    "# Section 4: Data Visualization\n",
    "Visualizing data using histograms, scatter plots, and box plots."
   ],
   "metadata": {
    "id": "DM9kii4GTexb"
   }
  },
  {
   "cell_type": "code",
   "source": [
    "# Univariate Visualization\n",
    "plt.figure(figsize=(6, 4))\n",
    "plt.hist(df['HouseAge'], bins=30, edgecolor='black')  # Adjust the number of bins as needed\n",
    "\n",
    "plt.title(\"Age Distribution\")\n",
    "plt.xlabel(\"House Age\")\n",
    "plt.ylabel(\"Frequency\")\n",
    "\n",
    "plt.show()"
   ],
   "metadata": {
    "id": "g0Kfi-nCTg1d"
   },
   "execution_count": null,
   "outputs": []
  },
  {
   "cell_type": "code",
   "source": [
    "plt.figure(figsize=(6, 4))\n",
    "scatter = plt.scatter(df[\"HouseAge\"], df[\"AveRooms\"], c=df[\"MedInc\"], cmap=\"viridis\", edgecolor='k', alpha=0.7)\n",
    "\n",
    "plt.colorbar(scatter, label=\"MedInc\")\n",
    "plt.title(\"Age vs AveRooms\")\n",
    "plt.xlabel(\"House Age\")\n",
    "plt.ylabel(\"Average Rooms\")\n",
    "\n",
    "plt.show()"
   ],
   "metadata": {
    "id": "edYDNr3nTmEo"
   },
   "execution_count": null,
   "outputs": []
  },
  {
   "cell_type": "code",
   "source": [
    "# Multivariate Visualization\n",
    "import pandas as pd\n",
    "from pandas.plotting import parallel_coordinates\n",
    "\n",
    "df_subset = df[['HouseAge', 'MedInc']][:100]  # Selecting relevant columns and a subset\n",
    "df_subset = df_subset.assign(\n",
    "    Category=pd.qcut(df['MedInc'], q=3, labels=['Low', 'Medium', 'High']))  # Categorizing MedInc\n",
    "\n",
    "plt.figure(figsize=(8, 5))\n",
    "parallel_coordinates(df_subset, class_column='Category', colormap=plt.cm.viridis, alpha=0.7)\n",
    "\n",
    "plt.title(\"Parallel Coordinates Plot\")\n",
    "plt.xlabel(\"Features\")\n",
    "plt.ylabel(\"Values\")\n",
    "plt.xticks(rotation=20)  # Rotate labels for better readability\n",
    "plt.grid(True)\n",
    "\n",
    "plt.show()"
   ],
   "metadata": {
    "id": "lnzJvwmFS84X"
   },
   "execution_count": null,
   "outputs": []
  },
  {
   "cell_type": "code",
   "source": [
    "### Exercise 4.1\n",
    "\"\"\"\n",
    "Create a histogram of the 'MedInc' (Median Income) column.\n",
    "Customize the plot with:\n",
    "  - A title: \"Distribution of Median Income\"\n",
    "  - X-axis label: \"Median Income\"\n",
    "  - Y-axis label: \"Frequency\"\n",
    "  - A different color for the bars (e.g., 'green')\n",
    "  - A specified number of bins (e.g., 20)\n",
    "\"\"\"\n"
   ],
   "metadata": {
    "id": "SkFno_NOAaru"
   },
   "execution_count": null,
   "outputs": []
  },
  {
   "cell_type": "code",
   "source": [
    "### Exercise 4.2\n",
    "\"\"\"\n",
    "Create a scatter plot of 'AveRooms' (Average Rooms) vs. 'target' (Housing Price).\n",
    "Add a regression line to the plot to show the trend.\n",
    "Customize the plot with appropriate labels and a title.\n",
    "\"\"\""
   ],
   "metadata": {
    "id": "yi6BmRDnAbCf"
   },
   "execution_count": null,
   "outputs": []
  },
  {
   "cell_type": "code",
   "source": [
    "### Exercise 4.3\n",
    "\"\"\"\n",
    "Create a box plot of 'target' (Housing Price) grouped by 'MedInc' categories (Median Income).\n",
    "Use the pandas `qcut` function to create 4 income categories.\n",
    "Customize the plot with appropriate labels and a title.\n",
    "\"\"\""
   ],
   "metadata": {
    "id": "gfklC9JbAdTL"
   },
   "execution_count": null,
   "outputs": []
  },
  {
   "cell_type": "code",
   "source": [
    "### Exercise 4.4\n",
    "\"\"\"\n",
    "Make 3 Hypothesis on the dataset and test them using the plots you created or more.\n",
    "\"\"\""
   ],
   "metadata": {
    "id": "_faLIdWLCiW8"
   },
   "execution_count": null,
   "outputs": []
  },
  {
   "cell_type": "markdown",
   "source": [
    "# Section 5: Exercises\n",
    "1. Load a dataset of your choice and identify its random variables. (https://scikit-learn.org/1.5/api/sklearn.datasets.html)\n",
    "2. Explore each column of the dataset.\n",
    "3. Calculate descriptive statistics (mean, median, mode, variance, standard deviation, IQR) for at least two numerical variables.\n",
    "4. Clean the data by handling missing values and removing duplicates.\n",
    "5. Identify outliers using the IQR method and handle them appropriately."
   ],
   "metadata": {
    "id": "69ZYjG0fVoJW"
   }
  }
 ]
}
